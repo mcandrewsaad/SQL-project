{
 "cells": [
  {
   "cell_type": "code",
   "execution_count": 1,
   "metadata": {},
   "outputs": [],
   "source": [
    "#importing the libraries\n",
    "import pandas as pd\n",
    "import sqlite3 as sql\n",
    "\n",
    "\n",
    "#opening the connection to the database \n",
    "conn = sql.connect('chinook.db')\n"
   ]
  },
  {
   "cell_type": "code",
   "execution_count": 2,
   "metadata": {},
   "outputs": [
    {
     "name": "stdout",
     "output_type": "stream",
     "text": [
      "     type             name         tbl_name  rootpage  \\\n",
      "0   table           albums           albums         2   \n",
      "1   table  sqlite_sequence  sqlite_sequence         3   \n",
      "2   table          artists          artists         4   \n",
      "3   table        customers        customers         5   \n",
      "4   table        employees        employees         8   \n",
      "5   table           genres           genres        10   \n",
      "6   table         invoices         invoices        11   \n",
      "7   table    invoice_items    invoice_items        13   \n",
      "8   table      media_types      media_types        15   \n",
      "9   table        playlists        playlists        16   \n",
      "10  table   playlist_track   playlist_track        17   \n",
      "11  table           tracks           tracks        20   \n",
      "12  table     sqlite_stat1     sqlite_stat1       864   \n",
      "\n",
      "                                                  sql  \n",
      "0   CREATE TABLE \"albums\"\\r\\n(\\r\\n    [AlbumId] IN...  \n",
      "1              CREATE TABLE sqlite_sequence(name,seq)  \n",
      "2   CREATE TABLE \"artists\"\\r\\n(\\r\\n    [ArtistId] ...  \n",
      "3   CREATE TABLE \"customers\"\\r\\n(\\r\\n    [Customer...  \n",
      "4   CREATE TABLE \"employees\"\\r\\n(\\r\\n    [Employee...  \n",
      "5   CREATE TABLE \"genres\"\\r\\n(\\r\\n    [GenreId] IN...  \n",
      "6   CREATE TABLE \"invoices\"\\r\\n(\\r\\n    [InvoiceId...  \n",
      "7   CREATE TABLE \"invoice_items\"\\r\\n(\\r\\n    [Invo...  \n",
      "8   CREATE TABLE \"media_types\"\\r\\n(\\r\\n    [MediaT...  \n",
      "9   CREATE TABLE \"playlists\"\\r\\n(\\r\\n    [Playlist...  \n",
      "10  CREATE TABLE \"playlist_track\"\\r\\n(\\r\\n    [Pla...  \n",
      "11  CREATE TABLE \"tracks\"\\r\\n(\\r\\n    [TrackId] IN...  \n",
      "12            CREATE TABLE sqlite_stat1(tbl,idx,stat)  \n"
     ]
    }
   ],
   "source": [
    "#checking the database content\n",
    "query1 = \"SELECT * FROM sqlite_master WHERE type='table'\"\n",
    "dataframe1 = pd.read_sql_query(query1, conn)\n",
    "print(dataframe1)"
   ]
  },
  {
   "cell_type": "markdown",
   "metadata": {},
   "source": [
    "### 1-How many customers are there that are not residing in the US"
   ]
  },
  {
   "cell_type": "code",
   "execution_count": 7,
   "metadata": {},
   "outputs": [
    {
     "name": "stdout",
     "output_type": "stream",
     "text": [
      "   count\n",
      "0     46\n"
     ]
    }
   ],
   "source": [
    "query2 = \"SELECT count(*) as count FROM customers where country!= 'USA' \"\n",
    "dataframe2 = pd.read_sql_query(query2, conn)\n",
    "print(dataframe2)"
   ]
  },
  {
   "cell_type": "markdown",
   "metadata": {},
   "source": [
    "### 2-Show all customers that are from Brazil. How Brazilian customers are there"
   ]
  },
  {
   "cell_type": "code",
   "execution_count": 9,
   "metadata": {},
   "outputs": [
    {
     "data": {
      "text/plain": [
       "5"
      ]
     },
     "execution_count": 9,
     "metadata": {},
     "output_type": "execute_result"
    }
   ],
   "source": [
    "query3 = \"SELECT * from customers where country = 'Brazil'\"\n",
    "dataframe3 = pd.read_sql_query(query3, conn)\n",
    "len(dataframe3.index)"
   ]
  },
  {
   "cell_type": "markdown",
   "metadata": {},
   "source": [
    "### 3-Show Invoices of customers who are from the US. The resultant table should show the customer's full name, Invoice ID, Date of the invoice and billing country"
   ]
  },
  {
   "cell_type": "code",
   "execution_count": 10,
   "metadata": {},
   "outputs": [
    {
     "name": "stdout",
     "output_type": "stream",
     "text": [
      "   CustomerId  FirstName   LastName  \\\n",
      "0           1       Luís  Gonçalves   \n",
      "1          10    Eduardo    Martins   \n",
      "2          11  Alexandre      Rocha   \n",
      "3          12    Roberto    Almeida   \n",
      "4          13   Fernanda      Ramos   \n",
      "\n",
      "                                            Company  \\\n",
      "0  Embraer - Empresa Brasileira de Aeronáutica S.A.   \n",
      "1                                  Woodstock Discos   \n",
      "2                              Banco do Brasil S.A.   \n",
      "3                                            Riotur   \n",
      "4                                              None   \n",
      "\n",
      "                           Address                 City State Country  \\\n",
      "0  Av. Brigadeiro Faria Lima, 2170  São José dos Campos    SP  Brazil   \n",
      "1        Rua Dr. Falcão Filho, 155            São Paulo    SP  Brazil   \n",
      "2               Av. Paulista, 2022            São Paulo    SP  Brazil   \n",
      "3                 Praça Pio X, 119       Rio de Janeiro    RJ  Brazil   \n",
      "4                     Qe 7 Bloco G             Brasília    DF  Brazil   \n",
      "\n",
      "  PostalCode               Phone                 Fax  \\\n",
      "0  12227-000  +55 (12) 3923-5555  +55 (12) 3923-5566   \n",
      "1  01007-010  +55 (11) 3033-5446  +55 (11) 3033-4564   \n",
      "2  01310-200  +55 (11) 3055-3278  +55 (11) 3055-8131   \n",
      "3  20040-020  +55 (21) 2271-7000  +55 (21) 2271-7070   \n",
      "4  71020-677  +55 (61) 3363-5547  +55 (61) 3363-7855   \n",
      "\n",
      "                           Email  SupportRepId  \n",
      "0           luisg@embraer.com.br             3  \n",
      "1       eduardo@woodstock.com.br             4  \n",
      "2               alero@uol.com.br             5  \n",
      "3  roberto.almeida@riotur.gov.br             3  \n",
      "4       fernadaramos4@uol.com.br             4  \n"
     ]
    }
   ],
   "source": [
    "query4 = \"SELECT * from customers where country = 'Brazil'\"\n",
    "dataframe4 = pd.read_sql_query(query4, conn)\n",
    "print(dataframe4)"
   ]
  },
  {
   "cell_type": "markdown",
   "metadata": {},
   "source": [
    "### 4-How many Employees are working as Sales Agents"
   ]
  },
  {
   "cell_type": "code",
   "execution_count": 12,
   "metadata": {},
   "outputs": [
    {
     "data": {
      "text/plain": [
       "4"
      ]
     },
     "execution_count": 12,
     "metadata": {},
     "output_type": "execute_result"
    }
   ],
   "source": [
    "query5 = \"SELECT * from employees where title like '%sales%'\"\n",
    "dataframe5 = pd.read_sql_query(query5, conn)\n",
    "len(dataframe5.index)"
   ]
  },
  {
   "cell_type": "markdown",
   "metadata": {},
   "source": [
    "### 5-To which countries the invoices were sent? Show the list of all countries"
   ]
  },
  {
   "cell_type": "code",
   "execution_count": 14,
   "metadata": {
    "scrolled": true
   },
   "outputs": [
    {
     "name": "stdout",
     "output_type": "stream",
     "text": [
      "    BillingCountry\n",
      "0        Argentina\n",
      "1        Australia\n",
      "2          Austria\n",
      "3          Belgium\n",
      "4           Brazil\n",
      "5           Canada\n",
      "6            Chile\n",
      "7   Czech Republic\n",
      "8          Denmark\n",
      "9          Finland\n",
      "10          France\n",
      "11         Germany\n",
      "12         Hungary\n",
      "13           India\n",
      "14         Ireland\n",
      "15           Italy\n",
      "16     Netherlands\n",
      "17          Norway\n",
      "18          Poland\n",
      "19        Portugal\n",
      "20           Spain\n",
      "21          Sweden\n",
      "22             USA\n",
      "23  United Kingdom\n"
     ]
    }
   ],
   "source": [
    "query6 = \"SELECT distinct(BillingCountry) from invoices order by BillingCountry\"\n",
    "dataframe6 = pd.read_sql_query(query6, conn)\n",
    "print(dataframe6)"
   ]
  },
  {
   "cell_type": "markdown",
   "metadata": {},
   "source": [
    "### 6-How many Invoices were there in 2010 and 2011? What are the respective total sales for each of those years?"
   ]
  },
  {
   "cell_type": "code",
   "execution_count": 15,
   "metadata": {},
   "outputs": [
    {
     "name": "stdout",
     "output_type": "stream",
     "text": [
      "   count(*)  sum(Total)\n",
      "0        83      469.58\n"
     ]
    }
   ],
   "source": [
    "query7 = \"SELECT count(*), sum(Total) from invoices where invoicedate between datetime('2011-01-01 00:00:00') and datetime('2011-12-31 00:00:00')\"\n",
    "dataframe7 = pd.read_sql_query(query7, conn)\n",
    "print(dataframe7)"
   ]
  },
  {
   "cell_type": "code",
   "execution_count": 16,
   "metadata": {},
   "outputs": [
    {
     "name": "stdout",
     "output_type": "stream",
     "text": [
      "   count(*)  sum(Total)\n",
      "0        83      481.45\n"
     ]
    }
   ],
   "source": [
    "query8 = \"SELECT count(*), sum(Total) from invoices where invoicedate between datetime('2010-01-01 00:00:00') and datetime('2010-12-31 00:00:00')\"\n",
    "dataframe8 = pd.read_sql_query(query8, conn)\n",
    "print(dataframe8)"
   ]
  },
  {
   "cell_type": "markdown",
   "metadata": {},
   "source": [
    "### 7-How many Invoices were created for each country"
   ]
  },
  {
   "cell_type": "code",
   "execution_count": 17,
   "metadata": {},
   "outputs": [
    {
     "name": "stdout",
     "output_type": "stream",
     "text": [
      "    BillingCountry  number of invoices\n",
      "0        Argentina                   7\n",
      "1        Australia                   7\n",
      "2          Austria                   7\n",
      "3          Belgium                   7\n",
      "4           Brazil                  35\n",
      "5           Canada                  56\n",
      "6            Chile                   7\n",
      "7   Czech Republic                  14\n",
      "8          Denmark                   7\n",
      "9          Finland                   7\n",
      "10          France                  35\n",
      "11         Germany                  28\n",
      "12         Hungary                   7\n",
      "13           India                  13\n",
      "14         Ireland                   7\n",
      "15           Italy                   7\n",
      "16     Netherlands                   7\n",
      "17          Norway                   7\n",
      "18          Poland                   7\n",
      "19        Portugal                  14\n",
      "20           Spain                   7\n",
      "21          Sweden                   7\n",
      "22             USA                  91\n",
      "23  United Kingdom                  21\n"
     ]
    }
   ],
   "source": [
    "query9 = \"SELECT  billingcountry, count(billingcountry) as 'number of invoices' from invoices group by billingcountry \"\n",
    "dataframe9 = pd.read_sql_query(query9, conn)\n",
    "print(dataframe9)"
   ]
  },
  {
   "cell_type": "markdown",
   "metadata": {},
   "source": [
    "### 8-How many tracks are there in each playlist?"
   ]
  },
  {
   "cell_type": "code",
   "execution_count": 18,
   "metadata": {},
   "outputs": [
    {
     "name": "stdout",
     "output_type": "stream",
     "text": [
      "    PlaylistId  number of tracks\n",
      "0            1              3290\n",
      "1            3               213\n",
      "2            5              1477\n",
      "3            8              3290\n",
      "4            9                 1\n",
      "5           10               213\n",
      "6           11                39\n",
      "7           12                75\n",
      "8           13                25\n",
      "9           14                25\n",
      "10          15                25\n",
      "11          16                15\n",
      "12          17                26\n",
      "13          18                 1\n"
     ]
    }
   ],
   "source": [
    "query10 = \"select playlistID, count(trackid) as 'number of tracks' from playlist_track group by playlistID\"\n",
    "dataframe10 = pd.read_sql_query(query10, conn)\n",
    "print(dataframe10)"
   ]
  },
  {
   "cell_type": "markdown",
   "metadata": {},
   "source": [
    "### 9-How much in total did every Sales Agent make"
   ]
  },
  {
   "cell_type": "code",
   "execution_count": 19,
   "metadata": {},
   "outputs": [
    {
     "name": "stdout",
     "output_type": "stream",
     "text": [
      "   EmployeeId  Total Sales\n",
      "0           3       833.04\n",
      "1           4       775.40\n",
      "2           5       720.16\n"
     ]
    }
   ],
   "source": [
    "query11 = \"select e.employeeId, sum(i.total) as 'Total Sales' from employees as e inner join customers as c on e.employeeid = c.supportrepid inner join invoices as i on i.customerid = c.customerid group by e.employeeid \"\n",
    "dataframe11 = pd.read_sql_query(query11, conn)\n",
    "print(dataframe11)"
   ]
  },
  {
   "cell_type": "markdown",
   "metadata": {},
   "source": [
    "### 10-What is the sales agent that made the most sales in 2012"
   ]
  },
  {
   "cell_type": "code",
   "execution_count": 20,
   "metadata": {},
   "outputs": [
    {
     "name": "stdout",
     "output_type": "stream",
     "text": [
      "   EmployeeId LastName FirstName                Title  ReportsTo  \\\n",
      "0           4     Park  Margaret  Sales Support Agent          2   \n",
      "\n",
      "             BirthDate             HireDate           Address     City State  \\\n",
      "0  1947-09-19 00:00:00  2003-05-03 00:00:00  683 10 Street SW  Calgary    AB   \n",
      "\n",
      "  Country PostalCode              Phone                Fax  \\\n",
      "0  Canada    T2P 5G3  +1 (403) 263-4423  +1 (403) 263-4289   \n",
      "\n",
      "                      Email  Total  max(total)  \n",
      "0  margaret@chinookcorp.com  197.2       197.2  \n"
     ]
    }
   ],
   "source": [
    "query12 = \" select *, max(total) from (select e.*, sum(total) as 'Total' from employees as e inner join customers as c on e.employeeid = c.supportrepid inner join invoices as i on i.customerid = c.customerid where i.invoicedate between '2012-01-00' and '2012-12-31' group by e.employeeid)\"\n",
    "dataframe12 = pd.read_sql_query(query12, conn)\n",
    "print(dataframe12)"
   ]
  },
  {
   "cell_type": "markdown",
   "metadata": {},
   "source": [
    "### 11-Which sales agent made the most in sales overall?"
   ]
  },
  {
   "cell_type": "code",
   "execution_count": 21,
   "metadata": {},
   "outputs": [
    {
     "name": "stdout",
     "output_type": "stream",
     "text": [
      "   EmployeeId LastName FirstName                Title  ReportsTo  \\\n",
      "0           3  Peacock      Jane  Sales Support Agent          2   \n",
      "\n",
      "             BirthDate             HireDate        Address     City State  \\\n",
      "0  1973-08-29 00:00:00  2002-04-01 00:00:00  1111 6 Ave SW  Calgary    AB   \n",
      "\n",
      "  Country PostalCode              Phone                Fax  \\\n",
      "0  Canada    T2P 5M5  +1 (403) 262-3443  +1 (403) 262-6712   \n",
      "\n",
      "                  Email   Total  max(total)  \n",
      "0  jane@chinookcorp.com  833.04      833.04  \n"
     ]
    }
   ],
   "source": [
    "query13 = \" select *, max(total) from (select e.*, sum(total) as 'Total' from employees as e inner join customers as c on e.employeeid = c.supportrepid inner join invoices as i on i.customerid = c.customerid  group by e.employeeid)\"\n",
    "dataframe13 = pd.read_sql_query(query13, conn)\n",
    "print(dataframe13)"
   ]
  },
  {
   "cell_type": "markdown",
   "metadata": {},
   "source": [
    "### 12-What is the number of customers assigned to each sales agent"
   ]
  },
  {
   "cell_type": "code",
   "execution_count": 22,
   "metadata": {},
   "outputs": [
    {
     "name": "stdout",
     "output_type": "stream",
     "text": [
      "   EmployeeId  TotalCustomers\n",
      "0           3              21\n",
      "1           4              20\n",
      "2           5              18\n"
     ]
    }
   ],
   "source": [
    "query14 = \"select e.employeeid, count(c.customerid) as 'TotalCustomers' from employees as e inner join customers as c on e.employeeid = c.supportrepid group by e.employeeid\"\n",
    "dataframe14 = pd.read_sql_query(query14, conn)\n",
    "print(dataframe14)"
   ]
  },
  {
   "cell_type": "markdown",
   "metadata": {},
   "source": [
    "### 13-Which country's customers spent the most?"
   ]
  },
  {
   "cell_type": "code",
   "execution_count": 23,
   "metadata": {},
   "outputs": [
    {
     "name": "stdout",
     "output_type": "stream",
     "text": [
      "    BillingCountry  TotalSales\n",
      "0              USA      523.06\n",
      "1           Canada      303.96\n",
      "2           France      195.10\n",
      "3           Brazil      190.10\n",
      "4          Germany      156.48\n",
      "5   United Kingdom      112.86\n",
      "6   Czech Republic       90.24\n",
      "7         Portugal       77.24\n",
      "8            India       75.26\n",
      "9            Chile       46.62\n",
      "10         Hungary       45.62\n",
      "11         Ireland       45.62\n",
      "12         Austria       42.62\n",
      "13         Finland       41.62\n",
      "14     Netherlands       40.62\n",
      "15          Norway       39.62\n",
      "16          Sweden       38.62\n",
      "17       Argentina       37.62\n",
      "18       Australia       37.62\n",
      "19         Denmark       37.62\n",
      "20           Italy       37.62\n",
      "21          Poland       37.62\n",
      "22         Belgium       37.62\n",
      "23           Spain       37.62\n"
     ]
    }
   ],
   "source": [
    "query15 = \"select billingcountry, sum(total) as 'TotalSales'from invoices group by billingcountry order by totalsales desc\"\n",
    "dataframe15 = pd.read_sql_query(query15, conn)\n",
    "print(dataframe15)"
   ]
  },
  {
   "cell_type": "markdown",
   "metadata": {},
   "source": [
    "### 14-Show the most purchased track of 2010 "
   ]
  },
  {
   "cell_type": "code",
   "execution_count": 24,
   "metadata": {},
   "outputs": [
    {
     "name": "stdout",
     "output_type": "stream",
     "text": [
      "     TrackId  count\n",
      "0          1      1\n",
      "1          5      1\n",
      "2          9      1\n",
      "3         13      1\n",
      "4         19      1\n",
      "5         25      1\n",
      "6         31      1\n",
      "7         37      1\n",
      "8         43      1\n",
      "9         49      1\n",
      "10        55      1\n",
      "11        61      1\n",
      "12        67      1\n",
      "13        76      1\n",
      "14        85      1\n",
      "15        94      1\n",
      "16       103      1\n",
      "17       112      1\n",
      "18       121      1\n",
      "19       130      1\n",
      "20       139      1\n",
      "21       148      1\n",
      "22       157      1\n",
      "23       166      1\n",
      "24       175      1\n",
      "25       184      1\n",
      "26       193      1\n",
      "27       207      1\n",
      "28       208      1\n",
      "29       209      1\n",
      "..       ...    ...\n",
      "425     3314      1\n",
      "426     3320      1\n",
      "427     3326      1\n",
      "428     3332      1\n",
      "429     3338      1\n",
      "430     3347      1\n",
      "431     3356      1\n",
      "432     3365      1\n",
      "433     3374      1\n",
      "434     3383      1\n",
      "435     3392      1\n",
      "436     3401      1\n",
      "437     3410      1\n",
      "438     3419      1\n",
      "439     3428      1\n",
      "440     3437      1\n",
      "441     3446      1\n",
      "442     3455      1\n",
      "443     3464      1\n",
      "444     3478      1\n",
      "445     3479      1\n",
      "446     3480      1\n",
      "447     3482      1\n",
      "448     3484      1\n",
      "449     3486      1\n",
      "450     3488      1\n",
      "451     3490      1\n",
      "452     3492      1\n",
      "453     3496      1\n",
      "454     3500      1\n",
      "\n",
      "[455 rows x 2 columns]\n"
     ]
    }
   ],
   "source": [
    "query16 = \"select trackid, count(trackid) as count from invoice_items where invoiceid in (select invoiceid from invoices  where invoicedate between '2010-01-01' and '2010-12-31') group by trackid order by count desc\"\n",
    "dataframe16 = pd.read_sql_query(query16, conn)\n",
    "print(dataframe16)"
   ]
  },
  {
   "cell_type": "markdown",
   "metadata": {},
   "source": [
    "### 15-Show the top 5 most purchased tracks ever"
   ]
  },
  {
   "cell_type": "code",
   "execution_count": 25,
   "metadata": {},
   "outputs": [
    {
     "name": "stdout",
     "output_type": "stream",
     "text": [
      "   TrackId  count\n",
      "0        2      2\n",
      "1        8      2\n",
      "2        9      2\n",
      "3       20      2\n",
      "4       32      2\n"
     ]
    }
   ],
   "source": [
    "query17 = \"select trackid, count(trackid) as count from invoice_items group by trackid order by count desc limit 5\"\n",
    "dataframe17 = pd.read_sql_query(query17, conn)\n",
    "print(dataframe17)"
   ]
  },
  {
   "cell_type": "markdown",
   "metadata": {},
   "source": [
    "### 16-What are the top 3 best selling artists"
   ]
  },
  {
   "cell_type": "code",
   "execution_count": 26,
   "metadata": {},
   "outputs": [
    {
     "name": "stdout",
     "output_type": "stream",
     "text": [
      "   ArtistId         Name  total_sales\n",
      "0        90  Iron Maiden      1233.54\n",
      "1       150           U2       895.59\n",
      "2       149         Lost       833.70\n"
     ]
    }
   ],
   "source": [
    "query18 = \"select a.artistid, a.name ,sum(i.total) as total_sales from invoices as i inner join invoice_items using(invoiceid) inner join tracks as t using(trackid) inner join albums as a using(albumid) inner join artists as a using(artistid) group by a.artistid, a.name order by total_sales desc limit 3\"\n",
    "dataframe18 = pd.read_sql_query(query18, conn)\n",
    "print(dataframe18)\n"
   ]
  },
  {
   "cell_type": "markdown",
   "metadata": {},
   "source": [
    "### 17-What is the most purchased Media Type"
   ]
  },
  {
   "cell_type": "code",
   "execution_count": 27,
   "metadata": {},
   "outputs": [
    {
     "name": "stdout",
     "output_type": "stream",
     "text": [
      "   MediaTypeId             Name  count\n",
      "0            1  MPEG audio file   1976\n"
     ]
    }
   ],
   "source": [
    "query19 = \"select m.mediatypeid, m.name, count(it.trackid) as count from invoice_items as it inner join tracks as t using(trackid) inner join media_types as m using(mediatypeid) group by m.mediatypeid, m.name order by count desc limit 1 \"\n",
    "dataframe19 = pd.read_sql_query(query19, conn)\n",
    "print(dataframe19)"
   ]
  },
  {
   "cell_type": "markdown",
   "metadata": {},
   "source": [
    "### 18-Show the number of tracks purchased in all invoices that contain more than one genre"
   ]
  },
  {
   "cell_type": "code",
   "execution_count": 28,
   "metadata": {
    "scrolled": true
   },
   "outputs": [
    {
     "name": "stdout",
     "output_type": "stream",
     "text": [
      "     InvoiceId  number_of_tracks  number_of_genres\n",
      "0            1                 2                 2\n",
      "1            2                 4                 4\n",
      "2            3                 6                 6\n",
      "3            4                 9                 9\n",
      "4            5                14                14\n",
      "5            7                 2                 2\n",
      "6            8                 2                 2\n",
      "7            9                 4                 4\n",
      "8           10                 6                 6\n",
      "9           11                 9                 9\n",
      "10          12                14                14\n",
      "11          14                 2                 2\n",
      "12          15                 2                 2\n",
      "13          16                 4                 4\n",
      "14          17                 6                 6\n",
      "15          18                 9                 9\n",
      "16          19                14                14\n",
      "17          21                 2                 2\n",
      "18          22                 2                 2\n",
      "19          23                 4                 4\n",
      "20          24                 6                 6\n",
      "21          25                 9                 9\n",
      "22          26                14                14\n",
      "23          28                 2                 2\n",
      "24          29                 2                 2\n",
      "25          30                 4                 4\n",
      "26          31                 6                 6\n",
      "27          32                 9                 9\n",
      "28          33                14                14\n",
      "29          35                 2                 2\n",
      "..         ...               ...               ...\n",
      "323        378                 2                 2\n",
      "324        379                 2                 2\n",
      "325        380                 4                 4\n",
      "326        381                 6                 6\n",
      "327        382                 9                 9\n",
      "328        383                14                14\n",
      "329        385                 2                 2\n",
      "330        386                 2                 2\n",
      "331        387                 4                 4\n",
      "332        388                 6                 6\n",
      "333        389                 9                 9\n",
      "334        390                14                14\n",
      "335        392                 2                 2\n",
      "336        393                 2                 2\n",
      "337        394                 4                 4\n",
      "338        395                 6                 6\n",
      "339        396                 9                 9\n",
      "340        397                14                14\n",
      "341        399                 2                 2\n",
      "342        400                 2                 2\n",
      "343        401                 4                 4\n",
      "344        402                 6                 6\n",
      "345        403                 9                 9\n",
      "346        404                14                14\n",
      "347        406                 2                 2\n",
      "348        407                 2                 2\n",
      "349        408                 4                 4\n",
      "350        409                 6                 6\n",
      "351        410                 9                 9\n",
      "352        411                14                14\n",
      "\n",
      "[353 rows x 3 columns]\n"
     ]
    }
   ],
   "source": [
    "query20 = \"select it.invoiceid, count(it.trackid) as number_of_tracks, count(g.genreid) as number_of_genres from invoice_items as it inner join tracks as t using(trackid) inner join genres as g using(genreid) group by it.invoiceid having count(g.genreid) > 1 \"\n",
    "dataframe20 = pd.read_sql_query(query20, conn)\n",
    "print(dataframe20)"
   ]
  }
 ],
 "metadata": {
  "kernelspec": {
   "display_name": "Python 3",
   "language": "python",
   "name": "python3"
  },
  "language_info": {
   "codemirror_mode": {
    "name": "ipython",
    "version": 3
   },
   "file_extension": ".py",
   "mimetype": "text/x-python",
   "name": "python",
   "nbconvert_exporter": "python",
   "pygments_lexer": "ipython3",
   "version": "3.7.3"
  }
 },
 "nbformat": 4,
 "nbformat_minor": 2
}
